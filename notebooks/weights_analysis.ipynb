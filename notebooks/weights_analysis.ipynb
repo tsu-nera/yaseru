{
 "cells": [
  {
   "cell_type": "markdown",
   "metadata": {},
   "source": [
    "# 体重データ分析"
   ]
  },
  {
   "cell_type": "code",
   "execution_count": 1,
   "metadata": {},
   "outputs": [],
   "source": [
    "import pandas as pd\n",
    "import datetime\n",
    "import seaborn as sns\n",
    "sns.set_style('darkgrid')\n",
    "\n",
    "import matplotlib.pyplot as plt\n",
    "import japanize_matplotlib"
   ]
  },
  {
   "cell_type": "code",
   "execution_count": 2,
   "metadata": {},
   "outputs": [
    {
     "data": {
      "text/plain": [
       "(61, 47)"
      ]
     },
     "execution_count": 2,
     "metadata": {},
     "output_type": "execute_result"
    }
   ],
   "source": [
    "WEIGHTS_PATH = \"../data/all_weights.csv\"\n",
    "CALORIES_PATH = \"../data/all_calories.csv\"\n",
    "weights = pd.read_csv(WEIGHTS_PATH, index_col='date', parse_dates=True)\n",
    "calories= pd.read_csv(CALORIES_PATH, index_col='date', parse_dates=True)\n",
    "len(weights), len(calories)"
   ]
  },
  {
   "cell_type": "code",
   "execution_count": 3,
   "metadata": {},
   "outputs": [],
   "source": [
    "weights = weights.groupby('date').mean()"
   ]
  },
  {
   "cell_type": "code",
   "execution_count": 4,
   "metadata": {},
   "outputs": [
    {
     "data": {
      "text/plain": [
       "47"
      ]
     },
     "execution_count": 4,
     "metadata": {},
     "output_type": "execute_result"
    }
   ],
   "source": [
    "df = pd.merge(weights, calories, how=\"outer\", on=\"date\").sort_values(\"date\")\n",
    "len(df)"
   ]
  },
  {
   "cell_type": "markdown",
   "metadata": {},
   "source": [
    "## データ分析"
   ]
  },
  {
   "cell_type": "code",
   "execution_count": 5,
   "metadata": {},
   "outputs": [],
   "source": [
    "df[\"year\"] = df.index.year\n",
    "df[\"month\"] = df.index.month\n",
    "df[\"week_of_month\"] = df.index.week\n",
    "df[\"year_and_wom\"] = df.index.strftime('%Y-W%W')"
   ]
  },
  {
   "cell_type": "markdown",
   "metadata": {},
   "source": [
    "### 直近2週間"
   ]
  },
  {
   "cell_type": "code",
   "execution_count": 6,
   "metadata": {},
   "outputs": [],
   "source": [
    "df_recent = pd.DataFrame()"
   ]
  },
  {
   "cell_type": "code",
   "execution_count": 7,
   "metadata": {},
   "outputs": [],
   "source": [
    "df_recent[\"体重\"] = round(df[\"weight\"], 1)\n",
    "df_recent[\"BMI\"] = round(df[\"bmi\"], 1)\n",
    "df_recent[\"消費カロリー\"] = df[\"calory\"]\n",
    "df_recent[\"摂取カロリー\"] = df[\"calory_in\"]\n",
    "df_recent[\"運動カロリー\"] = df[\"calory_activity\"]"
   ]
  },
  {
   "cell_type": "code",
   "execution_count": 8,
   "metadata": {},
   "outputs": [
    {
     "data": {
      "text/html": [
       "<div>\n",
       "<style scoped>\n",
       "    .dataframe tbody tr th:only-of-type {\n",
       "        vertical-align: middle;\n",
       "    }\n",
       "\n",
       "    .dataframe tbody tr th {\n",
       "        vertical-align: top;\n",
       "    }\n",
       "\n",
       "    .dataframe thead th {\n",
       "        text-align: right;\n",
       "    }\n",
       "</style>\n",
       "<table border=\"1\" class=\"dataframe\">\n",
       "  <thead>\n",
       "    <tr style=\"text-align: right;\">\n",
       "      <th></th>\n",
       "      <th>体重</th>\n",
       "      <th>BMI</th>\n",
       "      <th>消費カロリー</th>\n",
       "      <th>摂取カロリー</th>\n",
       "      <th>運動カロリー</th>\n",
       "    </tr>\n",
       "    <tr>\n",
       "      <th>date</th>\n",
       "      <th></th>\n",
       "      <th></th>\n",
       "      <th></th>\n",
       "      <th></th>\n",
       "      <th></th>\n",
       "    </tr>\n",
       "  </thead>\n",
       "  <tbody>\n",
       "    <tr>\n",
       "      <th>2020-01-03</th>\n",
       "      <td>101.3</td>\n",
       "      <td>34.6</td>\n",
       "      <td>1922</td>\n",
       "      <td>0</td>\n",
       "      <td>0</td>\n",
       "    </tr>\n",
       "    <tr>\n",
       "      <th>2020-01-04</th>\n",
       "      <td>NaN</td>\n",
       "      <td>NaN</td>\n",
       "      <td>1915</td>\n",
       "      <td>0</td>\n",
       "      <td>0</td>\n",
       "    </tr>\n",
       "    <tr>\n",
       "      <th>2020-01-05</th>\n",
       "      <td>NaN</td>\n",
       "      <td>NaN</td>\n",
       "      <td>4772</td>\n",
       "      <td>0</td>\n",
       "      <td>3373</td>\n",
       "    </tr>\n",
       "    <tr>\n",
       "      <th>2020-01-06</th>\n",
       "      <td>NaN</td>\n",
       "      <td>NaN</td>\n",
       "      <td>4519</td>\n",
       "      <td>0</td>\n",
       "      <td>3097</td>\n",
       "    </tr>\n",
       "    <tr>\n",
       "      <th>2020-01-07</th>\n",
       "      <td>99.9</td>\n",
       "      <td>34.1</td>\n",
       "      <td>3440</td>\n",
       "      <td>0</td>\n",
       "      <td>1767</td>\n",
       "    </tr>\n",
       "    <tr>\n",
       "      <th>2020-01-08</th>\n",
       "      <td>NaN</td>\n",
       "      <td>NaN</td>\n",
       "      <td>1906</td>\n",
       "      <td>0</td>\n",
       "      <td>0</td>\n",
       "    </tr>\n",
       "    <tr>\n",
       "      <th>2020-01-09</th>\n",
       "      <td>100.2</td>\n",
       "      <td>34.2</td>\n",
       "      <td>4567</td>\n",
       "      <td>0</td>\n",
       "      <td>3132</td>\n",
       "    </tr>\n",
       "    <tr>\n",
       "      <th>2020-01-10</th>\n",
       "      <td>98.5</td>\n",
       "      <td>33.6</td>\n",
       "      <td>4346</td>\n",
       "      <td>0</td>\n",
       "      <td>2915</td>\n",
       "    </tr>\n",
       "    <tr>\n",
       "      <th>2020-01-11</th>\n",
       "      <td>98.0</td>\n",
       "      <td>33.5</td>\n",
       "      <td>4347</td>\n",
       "      <td>1057</td>\n",
       "      <td>2970</td>\n",
       "    </tr>\n",
       "    <tr>\n",
       "      <th>2020-01-12</th>\n",
       "      <td>NaN</td>\n",
       "      <td>NaN</td>\n",
       "      <td>2131</td>\n",
       "      <td>0</td>\n",
       "      <td>272</td>\n",
       "    </tr>\n",
       "    <tr>\n",
       "      <th>2020-01-13</th>\n",
       "      <td>97.8</td>\n",
       "      <td>33.4</td>\n",
       "      <td>5259</td>\n",
       "      <td>1193</td>\n",
       "      <td>3947</td>\n",
       "    </tr>\n",
       "    <tr>\n",
       "      <th>2020-01-14</th>\n",
       "      <td>97.9</td>\n",
       "      <td>33.5</td>\n",
       "      <td>5185</td>\n",
       "      <td>1125</td>\n",
       "      <td>3968</td>\n",
       "    </tr>\n",
       "    <tr>\n",
       "      <th>2020-01-15</th>\n",
       "      <td>97.7</td>\n",
       "      <td>33.4</td>\n",
       "      <td>2180</td>\n",
       "      <td>1387</td>\n",
       "      <td>280</td>\n",
       "    </tr>\n",
       "    <tr>\n",
       "      <th>2020-01-16</th>\n",
       "      <td>98.2</td>\n",
       "      <td>33.6</td>\n",
       "      <td>3126</td>\n",
       "      <td>934</td>\n",
       "      <td>1728</td>\n",
       "    </tr>\n",
       "  </tbody>\n",
       "</table>\n",
       "</div>"
      ],
      "text/plain": [
       "               体重   BMI  消費カロリー  摂取カロリー  運動カロリー\n",
       "date                                           \n",
       "2020-01-03  101.3  34.6    1922       0       0\n",
       "2020-01-04    NaN   NaN    1915       0       0\n",
       "2020-01-05    NaN   NaN    4772       0    3373\n",
       "2020-01-06    NaN   NaN    4519       0    3097\n",
       "2020-01-07   99.9  34.1    3440       0    1767\n",
       "2020-01-08    NaN   NaN    1906       0       0\n",
       "2020-01-09  100.2  34.2    4567       0    3132\n",
       "2020-01-10   98.5  33.6    4346       0    2915\n",
       "2020-01-11   98.0  33.5    4347    1057    2970\n",
       "2020-01-12    NaN   NaN    2131       0     272\n",
       "2020-01-13   97.8  33.4    5259    1193    3947\n",
       "2020-01-14   97.9  33.5    5185    1125    3968\n",
       "2020-01-15   97.7  33.4    2180    1387     280\n",
       "2020-01-16   98.2  33.6    3126     934    1728"
      ]
     },
     "execution_count": 8,
     "metadata": {},
     "output_type": "execute_result"
    }
   ],
   "source": [
    "df_recent.tail(14)"
   ]
  },
  {
   "cell_type": "markdown",
   "metadata": {},
   "source": [
    "### 週別の集計"
   ]
  },
  {
   "cell_type": "code",
   "execution_count": 9,
   "metadata": {},
   "outputs": [],
   "source": [
    "groupby = df.groupby('year_and_wom')"
   ]
  },
  {
   "cell_type": "code",
   "execution_count": 10,
   "metadata": {},
   "outputs": [],
   "source": [
    "df_by_week = pd.DataFrame()\n",
    "df_by_week[\"体重\"] = round(groupby[\"weight\"].mean(), 1)\n",
    "df_by_week[\"BMI\"] = round(groupby[\"bmi\"].mean(), 1)"
   ]
  },
  {
   "cell_type": "code",
   "execution_count": 11,
   "metadata": {},
   "outputs": [],
   "source": [
    "df_by_week[\"消費カロリー\"] = round(groupby[\"calory\"].mean(), 1) * 7\n",
    "df_by_week[\"摂取カロリー\"] = round(groupby[\"calory_in\"].mean(), 1) * 7\n",
    "df_by_week[\"カロリー増減\"] = (round(groupby[\"calory_in\"].mean(), 1) - round(groupby[\"calory\"].mean(), 1)) * 7\n",
    "df_by_week[\"運動カロリー\"] = round(groupby[\"calory_activity\"].mean(), 1) * 7"
   ]
  },
  {
   "cell_type": "code",
   "execution_count": 12,
   "metadata": {},
   "outputs": [],
   "source": [
    "df_by_week[\"増減\"] = df_by_week.diff()[\"体重\"]\n",
    "df_by_week[\"総減量\"] = 106 - df_by_week[\"体重\"]"
   ]
  },
  {
   "cell_type": "code",
   "execution_count": 13,
   "metadata": {},
   "outputs": [],
   "source": [
    "df_by_week[\"週番号\"] = df_by_week.index\n",
    "df_by_week[\"date\"] = df_by_week[\"週番号\"].apply(lambda x: datetime.datetime.strptime(x + '-0', \"%Y-W%W-%w\"))\n",
    "df_by_week.set_index(\"date\", inplace=True)"
   ]
  },
  {
   "cell_type": "code",
   "execution_count": 14,
   "metadata": {},
   "outputs": [
    {
     "data": {
      "text/plain": [
       "<matplotlib.axes._subplots.AxesSubplot at 0x7f38fbd32c90>"
      ]
     },
     "execution_count": 14,
     "metadata": {},
     "output_type": "execute_result"
    },
    {
     "data": {
      "image/png": "[encoded data removed]",
      "text/plain": [
       "<Figure size 864x288 with 1 Axes>"
      ]
     },
     "metadata": {},
     "output_type": "display_data"
    }
   ],
   "source": [
    "plt.figure(figsize=(12,4))\n",
    "sns.lineplot(data=df_by_week, x='週番号', y='体重')"
   ]
  },
  {
   "cell_type": "code",
   "execution_count": 15,
   "metadata": {},
   "outputs": [],
   "source": [
    "df_by_week.drop([\"週番号\"], axis=1, inplace=True)\n",
    "df_by_week.index.name = '週別'"
   ]
  },
  {
   "cell_type": "code",
   "execution_count": 16,
   "metadata": {},
   "outputs": [],
   "source": [
    "df_by_week = df_by_week.groupby(\"週別\").mean()"
   ]
  },
  {
   "cell_type": "code",
   "execution_count": 17,
   "metadata": {
    "scrolled": true
   },
   "outputs": [
    {
     "data": {
      "text/html": [
       "<div>\n",
       "<style scoped>\n",
       "    .dataframe tbody tr th:only-of-type {\n",
       "        vertical-align: middle;\n",
       "    }\n",
       "\n",
       "    .dataframe tbody tr th {\n",
       "        vertical-align: top;\n",
       "    }\n",
       "\n",
       "    .dataframe thead th {\n",
       "        text-align: right;\n",
       "    }\n",
       "</style>\n",
       "<table border=\"1\" class=\"dataframe\">\n",
       "  <thead>\n",
       "    <tr style=\"text-align: right;\">\n",
       "      <th></th>\n",
       "      <th>体重</th>\n",
       "      <th>BMI</th>\n",
       "      <th>消費カロリー</th>\n",
       "      <th>摂取カロリー</th>\n",
       "      <th>カロリー増減</th>\n",
       "      <th>運動カロリー</th>\n",
       "      <th>増減</th>\n",
       "      <th>総減量</th>\n",
       "    </tr>\n",
       "    <tr>\n",
       "      <th>週別</th>\n",
       "      <th></th>\n",
       "      <th></th>\n",
       "      <th></th>\n",
       "      <th></th>\n",
       "      <th></th>\n",
       "      <th></th>\n",
       "      <th></th>\n",
       "      <th></th>\n",
       "    </tr>\n",
       "  </thead>\n",
       "  <tbody>\n",
       "    <tr>\n",
       "      <th>2019-12-01</th>\n",
       "      <td>105.2</td>\n",
       "      <td>35.9</td>\n",
       "      <td>15624.00</td>\n",
       "      <td>14798.0</td>\n",
       "      <td>-826.00</td>\n",
       "      <td>2261.0</td>\n",
       "      <td>NaN</td>\n",
       "      <td>0.8</td>\n",
       "    </tr>\n",
       "    <tr>\n",
       "      <th>2019-12-08</th>\n",
       "      <td>104.2</td>\n",
       "      <td>35.6</td>\n",
       "      <td>17266.90</td>\n",
       "      <td>9911.3</td>\n",
       "      <td>-7355.60</td>\n",
       "      <td>4776.1</td>\n",
       "      <td>-1.0</td>\n",
       "      <td>1.8</td>\n",
       "    </tr>\n",
       "    <tr>\n",
       "      <th>2019-12-15</th>\n",
       "      <td>103.2</td>\n",
       "      <td>35.2</td>\n",
       "      <td>29540.70</td>\n",
       "      <td>10626.0</td>\n",
       "      <td>-18914.70</td>\n",
       "      <td>18354.0</td>\n",
       "      <td>-1.0</td>\n",
       "      <td>2.8</td>\n",
       "    </tr>\n",
       "    <tr>\n",
       "      <th>2019-12-22</th>\n",
       "      <td>103.6</td>\n",
       "      <td>35.4</td>\n",
       "      <td>29789.20</td>\n",
       "      <td>1187.2</td>\n",
       "      <td>-28602.00</td>\n",
       "      <td>18701.2</td>\n",
       "      <td>0.4</td>\n",
       "      <td>2.4</td>\n",
       "    </tr>\n",
       "    <tr>\n",
       "      <th>2019-12-29</th>\n",
       "      <td>101.7</td>\n",
       "      <td>34.7</td>\n",
       "      <td>27458.90</td>\n",
       "      <td>0.0</td>\n",
       "      <td>-27458.90</td>\n",
       "      <td>15866.9</td>\n",
       "      <td>-1.9</td>\n",
       "      <td>4.3</td>\n",
       "    </tr>\n",
       "    <tr>\n",
       "      <th>2020-01-05</th>\n",
       "      <td>101.3</td>\n",
       "      <td>34.6</td>\n",
       "      <td>21579.25</td>\n",
       "      <td>0.0</td>\n",
       "      <td>-21579.25</td>\n",
       "      <td>9462.6</td>\n",
       "      <td>-0.2</td>\n",
       "      <td>4.7</td>\n",
       "    </tr>\n",
       "    <tr>\n",
       "      <th>2020-01-12</th>\n",
       "      <td>99.2</td>\n",
       "      <td>33.9</td>\n",
       "      <td>25256.00</td>\n",
       "      <td>1057.0</td>\n",
       "      <td>-24199.00</td>\n",
       "      <td>14153.3</td>\n",
       "      <td>-2.1</td>\n",
       "      <td>6.8</td>\n",
       "    </tr>\n",
       "    <tr>\n",
       "      <th>2020-01-19</th>\n",
       "      <td>97.9</td>\n",
       "      <td>33.5</td>\n",
       "      <td>27562.50</td>\n",
       "      <td>8118.6</td>\n",
       "      <td>-19443.90</td>\n",
       "      <td>17365.6</td>\n",
       "      <td>-1.3</td>\n",
       "      <td>8.1</td>\n",
       "    </tr>\n",
       "  </tbody>\n",
       "</table>\n",
       "</div>"
      ],
      "text/plain": [
       "               体重   BMI    消費カロリー   摂取カロリー    カロリー増減   運動カロリー   増減  総減量\n",
       "週別                                                                     \n",
       "2019-12-01  105.2  35.9  15624.00  14798.0   -826.00   2261.0  NaN  0.8\n",
       "2019-12-08  104.2  35.6  17266.90   9911.3  -7355.60   4776.1 -1.0  1.8\n",
       "2019-12-15  103.2  35.2  29540.70  10626.0 -18914.70  18354.0 -1.0  2.8\n",
       "2019-12-22  103.6  35.4  29789.20   1187.2 -28602.00  18701.2  0.4  2.4\n",
       "2019-12-29  101.7  34.7  27458.90      0.0 -27458.90  15866.9 -1.9  4.3\n",
       "2020-01-05  101.3  34.6  21579.25      0.0 -21579.25   9462.6 -0.2  4.7\n",
       "2020-01-12   99.2  33.9  25256.00   1057.0 -24199.00  14153.3 -2.1  6.8\n",
       "2020-01-19   97.9  33.5  27562.50   8118.6 -19443.90  17365.6 -1.3  8.1"
      ]
     },
     "execution_count": 17,
     "metadata": {},
     "output_type": "execute_result"
    }
   ],
   "source": [
    "df_by_week.tail(42)"
   ]
  },
  {
   "cell_type": "code",
   "execution_count": null,
   "metadata": {},
   "outputs": [],
   "source": []
  }
 ],
 "metadata": {
  "kernelspec": {
   "display_name": "Environment (conda_yaseru)",
   "language": "python",
   "name": "conda_yaseru"
  },
  "language_info": {
   "codemirror_mode": {
    "name": "ipython",
    "version": 3
   },
   "file_extension": ".py",
   "mimetype": "text/x-python",
   "name": "python",
   "nbconvert_exporter": "python",
   "pygments_lexer": "ipython3",
   "version": "3.7.6"
  }
 },
 "nbformat": 4,
 "nbformat_minor": 2
}
