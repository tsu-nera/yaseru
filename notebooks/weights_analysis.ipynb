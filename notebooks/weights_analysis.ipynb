{
 "cells": [
  {
   "cell_type": "markdown",
   "metadata": {},
   "source": [
    "# 体重データ分析"
   ]
  },
  {
   "cell_type": "code",
   "execution_count": 1,
   "metadata": {},
   "outputs": [],
   "source": [
    "import pandas as pd\n",
    "import datetime\n",
    "import seaborn as sns\n",
    "sns.set_style('darkgrid')\n",
    "\n",
    "import matplotlib.pyplot as plt\n",
    "import japanize_matplotlib"
   ]
  },
  {
   "cell_type": "code",
   "execution_count": 2,
   "metadata": {},
   "outputs": [
    {
     "data": {
      "text/plain": [
       "(116, 77)"
      ]
     },
     "execution_count": 2,
     "metadata": {},
     "output_type": "execute_result"
    }
   ],
   "source": [
    "WEIGHTS_PATH = \"../data/all_weights.csv\"\n",
    "CALORIES_PATH = \"../data/all_calories.csv\"\n",
    "weights = pd.read_csv(WEIGHTS_PATH)\n",
    "calories= pd.read_csv(CALORIES_PATH)\n",
    "len(weights), len(calories)"
   ]
  },
  {
   "cell_type": "code",
   "execution_count": 3,
   "metadata": {},
   "outputs": [],
   "source": [
    "def func(x):\n",
    "    try:\n",
    "        return datetime.datetime.strptime(x.date, '%Y-%m-%d').strftime('%Y-%m-%d')\n",
    "    except Exception:\n",
    "        return datetime.datetime.strptime(x.date, '%Y-%m-%d %H:%M:%S').strftime('%Y-%m-%d')\n",
    "\n",
    "weights['date_index'] = weights.apply(func, axis=1)\n",
    "calories['date_index'] = calories.apply(func, axis=1)\n",
    "\n",
    "weights['date_index'] = pd.to_datetime(weights.date_index)\n",
    "calories['date_index'] = pd.to_datetime(calories.date_index)\n",
    "\n",
    "weights = weights.set_index('date_index')\n",
    "calories = calories.set_index('date_index')\n",
    "\n",
    "weights.index.name = 'date'\n",
    "calories.index.name = 'date'\n",
    "\n",
    "weights = weights.drop(['date'], axis=1)\n",
    "calories = calories.drop(['date'], axis=1)"
   ]
  },
  {
   "cell_type": "code",
   "execution_count": 5,
   "metadata": {},
   "outputs": [],
   "source": [
    "weights = weights.groupby('date').mean()"
   ]
  },
  {
   "cell_type": "code",
   "execution_count": 6,
   "metadata": {},
   "outputs": [
    {
     "data": {
      "text/plain": [
       "77"
      ]
     },
     "execution_count": 6,
     "metadata": {},
     "output_type": "execute_result"
    }
   ],
   "source": [
    "df = pd.merge(weights, calories, how=\"outer\", on=\"date\").sort_values(\"date\")\n",
    "len(df)"
   ]
  },
  {
   "cell_type": "markdown",
   "metadata": {},
   "source": [
    "## データ分析"
   ]
  },
  {
   "cell_type": "code",
   "execution_count": 7,
   "metadata": {},
   "outputs": [],
   "source": [
    "df[\"year\"] = df.index.year\n",
    "df[\"month\"] = df.index.month\n",
    "df[\"week_of_month\"] = df.index.week\n",
    "df[\"year_and_wom\"] = df.index.strftime('%Y-W%W')"
   ]
  },
  {
   "cell_type": "markdown",
   "metadata": {},
   "source": [
    "### 直近2週間"
   ]
  },
  {
   "cell_type": "code",
   "execution_count": 8,
   "metadata": {},
   "outputs": [],
   "source": [
    "df_recent = pd.DataFrame()"
   ]
  },
  {
   "cell_type": "code",
   "execution_count": 9,
   "metadata": {},
   "outputs": [],
   "source": [
    "df_recent[\"体重\"] = round(df[\"weight\"], 1)\n",
    "df_recent[\"BMI\"] = round(df[\"bmi\"], 1)\n",
    "df_recent[\"消費カロリー\"] = df[\"calory\"]\n",
    "df_recent[\"摂取カロリー\"] = df[\"calory_in\"]\n",
    "df_recent[\"運動カロリー\"] = df[\"calory_activity\"]"
   ]
  },
  {
   "cell_type": "code",
   "execution_count": 10,
   "metadata": {},
   "outputs": [
    {
     "data": {
      "text/html": [
       "<div>\n",
       "<style scoped>\n",
       "    .dataframe tbody tr th:only-of-type {\n",
       "        vertical-align: middle;\n",
       "    }\n",
       "\n",
       "    .dataframe tbody tr th {\n",
       "        vertical-align: top;\n",
       "    }\n",
       "\n",
       "    .dataframe thead th {\n",
       "        text-align: right;\n",
       "    }\n",
       "</style>\n",
       "<table border=\"1\" class=\"dataframe\">\n",
       "  <thead>\n",
       "    <tr style=\"text-align: right;\">\n",
       "      <th></th>\n",
       "      <th>体重</th>\n",
       "      <th>BMI</th>\n",
       "      <th>消費カロリー</th>\n",
       "      <th>摂取カロリー</th>\n",
       "      <th>運動カロリー</th>\n",
       "    </tr>\n",
       "    <tr>\n",
       "      <th>date</th>\n",
       "      <th></th>\n",
       "      <th></th>\n",
       "      <th></th>\n",
       "      <th></th>\n",
       "      <th></th>\n",
       "    </tr>\n",
       "  </thead>\n",
       "  <tbody>\n",
       "    <tr>\n",
       "      <th>2020-02-03</th>\n",
       "      <td>95.4</td>\n",
       "      <td>32.6</td>\n",
       "      <td>1870</td>\n",
       "      <td>0</td>\n",
       "      <td>0</td>\n",
       "    </tr>\n",
       "    <tr>\n",
       "      <th>2020-02-04</th>\n",
       "      <td>95.3</td>\n",
       "      <td>32.6</td>\n",
       "      <td>4805</td>\n",
       "      <td>1301</td>\n",
       "      <td>3435</td>\n",
       "    </tr>\n",
       "    <tr>\n",
       "      <th>2020-02-05</th>\n",
       "      <td>93.9</td>\n",
       "      <td>32.1</td>\n",
       "      <td>3739</td>\n",
       "      <td>906</td>\n",
       "      <td>2253</td>\n",
       "    </tr>\n",
       "    <tr>\n",
       "      <th>2020-02-06</th>\n",
       "      <td>95.2</td>\n",
       "      <td>32.6</td>\n",
       "      <td>2601</td>\n",
       "      <td>1648</td>\n",
       "      <td>871</td>\n",
       "    </tr>\n",
       "    <tr>\n",
       "      <th>2020-02-07</th>\n",
       "      <td>95.2</td>\n",
       "      <td>32.6</td>\n",
       "      <td>1580</td>\n",
       "      <td>1443</td>\n",
       "      <td>0</td>\n",
       "    </tr>\n",
       "    <tr>\n",
       "      <th>2020-02-09</th>\n",
       "      <td>94.0</td>\n",
       "      <td>32.2</td>\n",
       "      <td>4365</td>\n",
       "      <td>993</td>\n",
       "      <td>2968</td>\n",
       "    </tr>\n",
       "    <tr>\n",
       "      <th>2020-02-10</th>\n",
       "      <td>94.2</td>\n",
       "      <td>32.2</td>\n",
       "      <td>4394</td>\n",
       "      <td>1963</td>\n",
       "      <td>3016</td>\n",
       "    </tr>\n",
       "    <tr>\n",
       "      <th>2020-02-11</th>\n",
       "      <td>93.6</td>\n",
       "      <td>32.0</td>\n",
       "      <td>4679</td>\n",
       "      <td>855</td>\n",
       "      <td>3327</td>\n",
       "    </tr>\n",
       "    <tr>\n",
       "      <th>2020-02-12</th>\n",
       "      <td>94.8</td>\n",
       "      <td>32.4</td>\n",
       "      <td>1862</td>\n",
       "      <td>711</td>\n",
       "      <td>0</td>\n",
       "    </tr>\n",
       "    <tr>\n",
       "      <th>2020-02-14</th>\n",
       "      <td>95.1</td>\n",
       "      <td>32.5</td>\n",
       "      <td>1707</td>\n",
       "      <td>172</td>\n",
       "      <td>0</td>\n",
       "    </tr>\n",
       "    <tr>\n",
       "      <th>2020-02-15</th>\n",
       "      <td>94.1</td>\n",
       "      <td>32.2</td>\n",
       "      <td>4420</td>\n",
       "      <td>1125</td>\n",
       "      <td>3013</td>\n",
       "    </tr>\n",
       "    <tr>\n",
       "      <th>2020-02-15</th>\n",
       "      <td>94.1</td>\n",
       "      <td>32.2</td>\n",
       "      <td>4393</td>\n",
       "      <td>1125</td>\n",
       "      <td>3013</td>\n",
       "    </tr>\n",
       "    <tr>\n",
       "      <th>2020-02-16</th>\n",
       "      <td>93.7</td>\n",
       "      <td>32.0</td>\n",
       "      <td>3489</td>\n",
       "      <td>1647</td>\n",
       "      <td>1882</td>\n",
       "    </tr>\n",
       "    <tr>\n",
       "      <th>2020-02-17</th>\n",
       "      <td>93.6</td>\n",
       "      <td>32.0</td>\n",
       "      <td>2241</td>\n",
       "      <td>968</td>\n",
       "      <td>376</td>\n",
       "    </tr>\n",
       "  </tbody>\n",
       "</table>\n",
       "</div>"
      ],
      "text/plain": [
       "              体重   BMI  消費カロリー  摂取カロリー  運動カロリー\n",
       "date                                          \n",
       "2020-02-03  95.4  32.6    1870       0       0\n",
       "2020-02-04  95.3  32.6    4805    1301    3435\n",
       "2020-02-05  93.9  32.1    3739     906    2253\n",
       "2020-02-06  95.2  32.6    2601    1648     871\n",
       "2020-02-07  95.2  32.6    1580    1443       0\n",
       "2020-02-09  94.0  32.2    4365     993    2968\n",
       "2020-02-10  94.2  32.2    4394    1963    3016\n",
       "2020-02-11  93.6  32.0    4679     855    3327\n",
       "2020-02-12  94.8  32.4    1862     711       0\n",
       "2020-02-14  95.1  32.5    1707     172       0\n",
       "2020-02-15  94.1  32.2    4420    1125    3013\n",
       "2020-02-15  94.1  32.2    4393    1125    3013\n",
       "2020-02-16  93.7  32.0    3489    1647    1882\n",
       "2020-02-17  93.6  32.0    2241     968     376"
      ]
     },
     "execution_count": 10,
     "metadata": {},
     "output_type": "execute_result"
    }
   ],
   "source": [
    "df_recent.tail(14)"
   ]
  },
  {
   "cell_type": "markdown",
   "metadata": {},
   "source": [
    "### 週別の集計"
   ]
  },
  {
   "cell_type": "code",
   "execution_count": 11,
   "metadata": {},
   "outputs": [],
   "source": [
    "groupby = df.groupby('year_and_wom')"
   ]
  },
  {
   "cell_type": "code",
   "execution_count": 12,
   "metadata": {},
   "outputs": [],
   "source": [
    "df_by_week = pd.DataFrame()\n",
    "df_by_week[\"体重\"] = round(groupby[\"weight\"].mean(), 1)\n",
    "df_by_week[\"BMI\"] = round(groupby[\"bmi\"].mean(), 1)"
   ]
  },
  {
   "cell_type": "code",
   "execution_count": 13,
   "metadata": {},
   "outputs": [],
   "source": [
    "df_by_week[\"消費カロリー\"] = round(groupby[\"calory\"].mean(), 1) * 7\n",
    "df_by_week[\"摂取カロリー\"] = round(groupby[\"calory_in\"].mean(), 1) * 7\n",
    "df_by_week[\"カロリー増減\"] = (round(groupby[\"calory_in\"].mean(), 1) - round(groupby[\"calory\"].mean(), 1)) * 7\n",
    "df_by_week[\"運動カロリー\"] = round(groupby[\"calory_activity\"].mean(), 1) * 7"
   ]
  },
  {
   "cell_type": "code",
   "execution_count": 14,
   "metadata": {},
   "outputs": [],
   "source": [
    "df_by_week[\"増減\"] = df_by_week.diff()[\"体重\"]\n",
    "df_by_week[\"総減量\"] = 106 - df_by_week[\"体重\"]"
   ]
  },
  {
   "cell_type": "code",
   "execution_count": 15,
   "metadata": {},
   "outputs": [],
   "source": [
    "df_by_week[\"週番号\"] = df_by_week.index\n",
    "df_by_week[\"date\"] = df_by_week[\"週番号\"].apply(lambda x: datetime.datetime.strptime(x + '-0', \"%Y-W%W-%w\"))\n",
    "df_by_week.set_index(\"date\", inplace=True)"
   ]
  },
  {
   "cell_type": "code",
   "execution_count": 16,
   "metadata": {},
   "outputs": [
    {
     "data": {
      "text/plain": [
       "<matplotlib.axes._subplots.AxesSubplot at 0x7fed642ae410>"
      ]
     },
     "execution_count": 16,
     "metadata": {},
     "output_type": "execute_result"
    },
    {
     "data": {
      "image/png": "[encoded data removed]",
      "text/plain": [
       "<Figure size 864x288 with 1 Axes>"
      ]
     },
     "metadata": {},
     "output_type": "display_data"
    }
   ],
   "source": [
    "plt.figure(figsize=(12,4))\n",
    "sns.lineplot(data=df_by_week, x='週番号', y='体重')"
   ]
  },
  {
   "cell_type": "code",
   "execution_count": 17,
   "metadata": {},
   "outputs": [],
   "source": [
    "df_by_week.drop([\"週番号\"], axis=1, inplace=True)\n",
    "df_by_week.index.name = '週別'"
   ]
  },
  {
   "cell_type": "code",
   "execution_count": 18,
   "metadata": {},
   "outputs": [],
   "source": [
    "df_by_week = df_by_week.groupby(\"週別\").mean()"
   ]
  },
  {
   "cell_type": "code",
   "execution_count": 19,
   "metadata": {
    "scrolled": true
   },
   "outputs": [
    {
     "data": {
      "text/html": [
       "<div>\n",
       "<style scoped>\n",
       "    .dataframe tbody tr th:only-of-type {\n",
       "        vertical-align: middle;\n",
       "    }\n",
       "\n",
       "    .dataframe tbody tr th {\n",
       "        vertical-align: top;\n",
       "    }\n",
       "\n",
       "    .dataframe thead th {\n",
       "        text-align: right;\n",
       "    }\n",
       "</style>\n",
       "<table border=\"1\" class=\"dataframe\">\n",
       "  <thead>\n",
       "    <tr style=\"text-align: right;\">\n",
       "      <th></th>\n",
       "      <th>体重</th>\n",
       "      <th>BMI</th>\n",
       "      <th>消費カロリー</th>\n",
       "      <th>摂取カロリー</th>\n",
       "      <th>カロリー増減</th>\n",
       "      <th>運動カロリー</th>\n",
       "      <th>増減</th>\n",
       "      <th>総減量</th>\n",
       "    </tr>\n",
       "    <tr>\n",
       "      <th>週別</th>\n",
       "      <th></th>\n",
       "      <th></th>\n",
       "      <th></th>\n",
       "      <th></th>\n",
       "      <th></th>\n",
       "      <th></th>\n",
       "      <th></th>\n",
       "      <th></th>\n",
       "    </tr>\n",
       "  </thead>\n",
       "  <tbody>\n",
       "    <tr>\n",
       "      <th>2020-01-05</th>\n",
       "      <td>101.3</td>\n",
       "      <td>34.6</td>\n",
       "      <td>21579.25</td>\n",
       "      <td>0.0</td>\n",
       "      <td>-21579.25</td>\n",
       "      <td>9462.6</td>\n",
       "      <td>-0.2</td>\n",
       "      <td>4.7</td>\n",
       "    </tr>\n",
       "    <tr>\n",
       "      <th>2020-01-12</th>\n",
       "      <td>99.2</td>\n",
       "      <td>33.9</td>\n",
       "      <td>25256.00</td>\n",
       "      <td>1057.0</td>\n",
       "      <td>-24199.00</td>\n",
       "      <td>14153.3</td>\n",
       "      <td>-2.1</td>\n",
       "      <td>6.8</td>\n",
       "    </tr>\n",
       "    <tr>\n",
       "      <th>2020-01-19</th>\n",
       "      <td>97.7</td>\n",
       "      <td>33.4</td>\n",
       "      <td>28797.30</td>\n",
       "      <td>7693.0</td>\n",
       "      <td>-21104.30</td>\n",
       "      <td>18718.7</td>\n",
       "      <td>-1.5</td>\n",
       "      <td>8.3</td>\n",
       "    </tr>\n",
       "    <tr>\n",
       "      <th>2020-01-26</th>\n",
       "      <td>97.1</td>\n",
       "      <td>33.2</td>\n",
       "      <td>26156.90</td>\n",
       "      <td>8806.0</td>\n",
       "      <td>-17350.90</td>\n",
       "      <td>15303.4</td>\n",
       "      <td>-0.6</td>\n",
       "      <td>8.9</td>\n",
       "    </tr>\n",
       "    <tr>\n",
       "      <th>2020-02-02</th>\n",
       "      <td>95.3</td>\n",
       "      <td>32.6</td>\n",
       "      <td>26576.20</td>\n",
       "      <td>6472.2</td>\n",
       "      <td>-20104.00</td>\n",
       "      <td>15955.8</td>\n",
       "      <td>-1.8</td>\n",
       "      <td>10.7</td>\n",
       "    </tr>\n",
       "    <tr>\n",
       "      <th>2020-02-09</th>\n",
       "      <td>94.8</td>\n",
       "      <td>32.4</td>\n",
       "      <td>22120.00</td>\n",
       "      <td>7339.5</td>\n",
       "      <td>-14780.50</td>\n",
       "      <td>11114.6</td>\n",
       "      <td>-0.5</td>\n",
       "      <td>11.2</td>\n",
       "    </tr>\n",
       "    <tr>\n",
       "      <th>2020-02-16</th>\n",
       "      <td>94.2</td>\n",
       "      <td>32.2</td>\n",
       "      <td>24943.80</td>\n",
       "      <td>7597.8</td>\n",
       "      <td>-17346.00</td>\n",
       "      <td>14251.3</td>\n",
       "      <td>-0.6</td>\n",
       "      <td>11.8</td>\n",
       "    </tr>\n",
       "    <tr>\n",
       "      <th>2020-02-23</th>\n",
       "      <td>93.6</td>\n",
       "      <td>32.0</td>\n",
       "      <td>15687.00</td>\n",
       "      <td>6776.0</td>\n",
       "      <td>-8911.00</td>\n",
       "      <td>2632.0</td>\n",
       "      <td>-0.6</td>\n",
       "      <td>12.4</td>\n",
       "    </tr>\n",
       "  </tbody>\n",
       "</table>\n",
       "</div>"
      ],
      "text/plain": [
       "               体重   BMI    消費カロリー  摂取カロリー    カロリー増減   運動カロリー   増減   総減量\n",
       "週別                                                                     \n",
       "2020-01-05  101.3  34.6  21579.25     0.0 -21579.25   9462.6 -0.2   4.7\n",
       "2020-01-12   99.2  33.9  25256.00  1057.0 -24199.00  14153.3 -2.1   6.8\n",
       "2020-01-19   97.7  33.4  28797.30  7693.0 -21104.30  18718.7 -1.5   8.3\n",
       "2020-01-26   97.1  33.2  26156.90  8806.0 -17350.90  15303.4 -0.6   8.9\n",
       "2020-02-02   95.3  32.6  26576.20  6472.2 -20104.00  15955.8 -1.8  10.7\n",
       "2020-02-09   94.8  32.4  22120.00  7339.5 -14780.50  11114.6 -0.5  11.2\n",
       "2020-02-16   94.2  32.2  24943.80  7597.8 -17346.00  14251.3 -0.6  11.8\n",
       "2020-02-23   93.6  32.0  15687.00  6776.0  -8911.00   2632.0 -0.6  12.4"
      ]
     },
     "execution_count": 19,
     "metadata": {},
     "output_type": "execute_result"
    }
   ],
   "source": [
    "df_by_week.tail(8)"
   ]
  },
  {
   "cell_type": "code",
   "execution_count": null,
   "metadata": {},
   "outputs": [],
   "source": []
  }
 ],
 "metadata": {
  "kernelspec": {
   "display_name": "Environment (conda_yaseru)",
   "language": "python",
   "name": "conda_yaseru"
  },
  "language_info": {
   "codemirror_mode": {
    "name": "ipython",
    "version": 3
   },
   "file_extension": ".py",
   "mimetype": "text/x-python",
   "name": "python",
   "nbconvert_exporter": "python",
   "pygments_lexer": "ipython3",
   "version": "3.7.6"
  }
 },
 "nbformat": 4,
 "nbformat_minor": 2
}
